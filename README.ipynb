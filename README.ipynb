{
 "cells": [
  {
   "cell_type": "markdown",
   "metadata": {
    "execution": {
     "iopub.execute_input": "2021-08-04T07:20:41.184092Z",
     "iopub.status.busy": "2021-08-04T07:20:41.183775Z",
     "iopub.status.idle": "2021-08-04T07:20:42.744802Z",
     "shell.execute_reply": "2021-08-04T07:20:42.743674Z",
     "shell.execute_reply.started": "2021-08-04T07:20:41.18406Z"
    }
   },
   "source": [
    "# Interactive Dashboard\n",
    "\n",
    "<br>\n",
    "<p align=\"center\"> <img src=\"./readme_res/demo.png\" alt=\"Drawing\"/> </p>\n",
    "<br>\n",
    "\n",
    "<br>\n",
    "<p align=\"center\"> <img src=\"./readme_res/demo.gif\" alt=\"Drawing\"/> </p>\n",
    "<br>\n",
    "\n",
    "The project is based on Kickstarter data provided by Mickaël Mouillé [Dataset link](https://www.kaggle.com/kemical/kickstarter-projects)"
   ]
  },
  {
   "cell_type": "markdown",
   "metadata": {},
   "source": [
    "# 1.) Load data and preprocessing"
   ]
  },
  {
   "cell_type": "markdown",
   "metadata": {
    "heading_collapsed": true
   },
   "source": [
    "## 1.1) Imports"
   ]
  },
  {
   "cell_type": "code",
   "execution_count": null,
   "metadata": {
    "hidden": true
   },
   "outputs": [],
   "source": [
    "from jupyter_dash import JupyterDash\n",
    "import dash_core_components as dcc\n",
    "import dash_html_components as html\n",
    "import dash_bootstrap_components as dbc\n",
    "\n",
    "import plotly.express as px\n",
    "import plotly.graph_objects as go\n",
    "import plotly.io as pio\n",
    "\n",
    "# All around\n",
    "import utilsm.helpers as H\n",
    "import pandas as pd\n",
    "\n",
    "# Import settings\n",
    "pio.templates.default = \"simple_white\"\n",
    "pd.options.mode.chained_assignment = None"
   ]
  },
  {
   "cell_type": "markdown",
   "metadata": {
    "heading_collapsed": true
   },
   "source": [
    "## 1.2) Prepare data"
   ]
  },
  {
   "cell_type": "code",
   "execution_count": 2,
   "metadata": {
    "hidden": true
   },
   "outputs": [],
   "source": [
    "df = pd.read_csv(\"C:/Users/JK/Desktop/Onedrive/Programming/Datasets/kickstarter/kickstarter_data.csv\",\n",
    "                 parse_dates=[\"launched\", \"deadline\"])\n",
    "\n",
    "# Don't really care about the precise time of day, just the date\n",
    "df[\"launched\"] = df[\"launched\"].dt.round('D')\n",
    "df[\"deadline\"] = df[\"deadline\"].dt.round('D')\n",
    "\n",
    "# Country name `N,0\"` is an error in the dataset. Going to rename it `unknown`\n",
    "df.loc[df[\"country\"] == \"N,0\\\"\", \"country\"] = \"unknown\"\n",
    "\n",
    "# Add year column for later use\n",
    "df[\"year\"] = df[\"launched\"].dt.year\n",
    "\n",
    "# There's 7 kickstarters that has been launched in 1970? Must be a mistake\n",
    "df = df.loc[ df[\"launched\"].dt.year != 1970, :] # Remove all 7\n",
    "\n",
    "# Data from 2009 and 2018 are far from complete and will be misleading if not removed\n",
    "except_9_and_18 = df[\"year\"].isin([2010+i for i in range(8)])\n",
    "df = df[except_9_and_18]\n",
    "\n",
    "# state `canceled` might as well be combined with `failed` into `unsuccessful`\n",
    "unsuccessful = df[\"state\"].isin([\"failed\", \"canceled\"])\n",
    "df.loc[unsuccessful, \"state\"] = \"unsuccessful\"\n",
    "\n",
    "# Going to collapse the 3 states `undefined`, `live`, and `suspended` into `other`.\n",
    "to_be_collapsed = df[\"state\"].isin([\"undefined\", \"live\", \"suspended\"])\n",
    "df.loc[ to_be_collapsed, \"state\"] = \"other\""
   ]
  },
  {
   "cell_type": "markdown",
   "metadata": {},
   "source": [
    "# 2.) Figures"
   ]
  },
  {
   "cell_type": "markdown",
   "metadata": {},
   "source": [
    "## 2.1) Figure: Launches per year"
   ]
  },
  {
   "cell_type": "code",
   "execution_count": 22,
   "metadata": {},
   "outputs": [],
   "source": [
    "# Group by year and state for grouped bar plot\n",
    "count_by_year_and_state = df.groupby([\"year\", \"state\"]).size().reset_index(level=['year','state'])\n",
    "count_by_year_and_state.rename( columns={0:\"launches per year\"}, inplace=True)\n",
    "\n",
    "# Going to drop others, it doesn't provide much information\n",
    "except_other = count_by_year_and_state[\"state\"] != \"other\"\n",
    "count_by_year_and_state = count_by_year_and_state[except_other]\n",
    "\n",
    "# Add \"all\" column\n",
    "count_all_states = df.groupby(\"year\").size().reset_index()\n",
    "count_all_states.rename( columns={0:\"launches per year\"}, inplace=True)\n",
    "count_all_states[\"state\"] = \"all\"\n",
    "count_by_year_and_state = pd.concat([count_all_states, count_by_year_and_state])\n",
    "\n",
    "\n",
    "# Rename states\n",
    "for old, new in {\"successful\":\"Successful\", \"unsuccessful\":\"Unsuccessful\", \"all\":\"All\"}.items():\n",
    "    count_by_year_and_state.loc[count_by_year_and_state[\"state\"] == old, \"state\"] = new\n",
    "\n",
    "fig_ks_count = px.bar(\n",
    "    count_by_year_and_state.reset_index(drop=True),\n",
    "    x=\"year\",\n",
    "    y=\"launches per year\",\n",
    "    color=\"state\",\n",
    "    barmode=\"group\",\n",
    "    category_orders={}\n",
    ")"
   ]
  },
  {
   "cell_type": "markdown",
   "metadata": {},
   "source": [
    "<br>\n",
    "<p align=\"center\"> <img src=\"./readme_res/fig1.png\" alt=\"Drawing\"/> </p>\n",
    "<br>"
   ]
  },
  {
   "cell_type": "markdown",
   "metadata": {},
   "source": [
    "## 2.2) Figure: Money pledged per year"
   ]
  },
  {
   "cell_type": "code",
   "execution_count": 15,
   "metadata": {},
   "outputs": [
    {
     "name": "stderr",
     "output_type": "stream",
     "text": [
      "<ipython-input-15-e67d93c56fa6>:3: FutureWarning:\n",
      "\n",
      "Dropping invalid columns in DataFrameGroupBy.max is deprecated. In a future version, a TypeError will be raised. Before calling .max, select only columns which should be valid for the function.\n",
      "\n"
     ]
    }
   ],
   "source": [
    "mean = df.groupby(\"year\").mean().reset_index()\n",
    "median = df.groupby(\"year\").median().reset_index()\n",
    "maximum = df.groupby(\"year\").max().reset_index()\n",
    "\n",
    "fig_money = go.Figure()\n",
    "fig_money.add_trace(go.Scatter(\n",
    "    x=mean[\"year\"],\n",
    "    y=mean[\"usd_goal_real\"],\n",
    "    name=\"Average\"\n",
    "))\n",
    "\n",
    "fig_money.add_trace(go.Scatter(\n",
    "    x=median[\"year\"],\n",
    "    y=median[\"usd_goal_real\"],\n",
    "    name=\"Median\"\n",
    "))\n",
    "\n",
    "fig_money.add_trace(go.Scatter(\n",
    "    x=maximum[\"year\"],\n",
    "    y=maximum[\"usd_goal_real\"],\n",
    "    name=\"Maximum\"\n",
    "))\n",
    "\n",
    "fig_money.update_yaxes(type=\"log\");"
   ]
  },
  {
   "cell_type": "markdown",
   "metadata": {},
   "source": [
    "<br>\n",
    "<p align=\"center\"> <img src=\"./readme_res/fig2.png\" alt=\"Drawing\"/> </p>\n",
    "<br>"
   ]
  },
  {
   "cell_type": "markdown",
   "metadata": {},
   "source": [
    "## 2.3) Figure: 10 Most popular categories"
   ]
  },
  {
   "cell_type": "code",
   "execution_count": 14,
   "metadata": {},
   "outputs": [],
   "source": [
    "for_pie = df[\"main_category\"].value_counts(normalize=True)[:10]\n",
    "fig_pie_category = px.pie(names=list(for_pie.keys()), values=for_pie.values.tolist())\n",
    "fig_pie_category.update_traces(textposition='inside', textinfo='percent+label')\n",
    "fig_pie_category.update_layout(showlegend=False);"
   ]
  },
  {
   "cell_type": "markdown",
   "metadata": {},
   "source": [
    "<br>\n",
    "<p align=\"center\"> <img src=\"./readme_res/fig3.png\" alt=\"Drawing\"/> </p>\n",
    "<br>"
   ]
  },
  {
   "cell_type": "markdown",
   "metadata": {},
   "source": [
    "## 2.4) Figure: Money pledged per category"
   ]
  },
  {
   "cell_type": "code",
   "execution_count": 13,
   "metadata": {},
   "outputs": [],
   "source": [
    "# Median and mean money spend in the 15 main categories\n",
    "median = df.groupby(\"main_category\").median().sort_values(\"usd_pledged_real\", ascending=False).reset_index()\n",
    "mean = df.groupby(\"main_category\").mean().sort_values(\"usd_pledged_real\", ascending=False).reset_index()\n",
    "\n",
    "fig_money_category = go.Figure()\n",
    "fig_money_category.add_trace(go.Bar(x=median[\"main_category\"], y=median[\"usd_pledged_real\"], name=\"Median\"))\n",
    "fig_money_category.add_trace(go.Bar(x=mean[\"main_category\"], y=mean[\"usd_pledged_real\"], name=\"Average\"))\n",
    "fig_money_category.update_yaxes(type=\"log\");"
   ]
  },
  {
   "cell_type": "markdown",
   "metadata": {},
   "source": [
    "<br>\n",
    "<p align=\"center\"> <img src=\"./readme_res/fig4.png\" alt=\"Drawing\"/> </p>\n",
    "<br>"
   ]
  },
  {
   "cell_type": "markdown",
   "metadata": {},
   "source": [
    "## 2.5) Figure: Succes rate per category"
   ]
  },
  {
   "cell_type": "code",
   "execution_count": 17,
   "metadata": {},
   "outputs": [],
   "source": [
    "# Selected categories that match that of the pie plot\n",
    "selected_categories = list(for_pie.keys())\n",
    "temp = df[df[\"main_category\"].isin(selected_categories)].copy()\n",
    "\n",
    "# Going to drop others, it dosen't provide much information\n",
    "except_other = temp[\"state\"] != \"other\"\n",
    "success_per_category = temp[except_other]\n",
    "\n",
    "# Group by category and state\n",
    "success_per_category = success_per_category.groupby([\"main_category\", \"state\"]).size().reset_index(level=[0, 1])\n",
    "success_per_category.rename(columns={0: \"success rate\"}, inplace=True)\n",
    "success_per_category.reset_index(drop=True, inplace=True)\n",
    "\n",
    "# Convert to rates\n",
    "only_success = success_per_category[\"state\"] == \"successful\"\n",
    "only_unsuccessful = success_per_category[\"state\"] != \"successful\"\n",
    "sum_by_category = success_per_category.groupby(\"main_category\").sum().\\\n",
    "                  reset_index(drop=True)[\"success rate\"]\n",
    "a = success_per_category[only_success].reset_index(drop=True)[\"success rate\"] / sum_by_category\n",
    "b = success_per_category[only_unsuccessful].reset_index(drop=True)[\"success rate\"] / sum_by_category\n",
    "success_per_category[\"success rate\"] = pd.concat([a, b]).reset_index().sort_values(\"index\")[\"success rate\"].reset_index(drop=True)\n",
    "\n",
    "# Rename states\n",
    "for old, new in {\"successful\":\"Successful\", \"unsuccessful\":\"Unsuccessful\"}.items():\n",
    "    success_per_category.loc[success_per_category[\"state\"] == old, \"state\"] = new\n",
    "\n",
    "# bar plot itself\n",
    "fig_success_rate = px.bar(\n",
    "    success_per_category.sort_values(\"success rate\", ascending=False),\n",
    "    y=\"main_category\",\n",
    "    x=\"success rate\",\n",
    "    color=\"state\",\n",
    "    orientation='h',\n",
    ")"
   ]
  },
  {
   "cell_type": "markdown",
   "metadata": {},
   "source": [
    "<br>\n",
    "<p align=\"center\"> <img src=\"./readme_res/fig5.png\" alt=\"Drawing\"/> </p>\n",
    "<br>"
   ]
  },
  {
   "cell_type": "markdown",
   "metadata": {},
   "source": [
    "## 2.6) Figure: Launches per country"
   ]
  },
  {
   "cell_type": "code",
   "execution_count": 19,
   "metadata": {},
   "outputs": [],
   "source": [
    "for_map = df.country.value_counts()\n",
    "for_map = pd.DataFrame({\"iso_alpha2\":list(for_map.index), \"value\":list(for_map.values)})\n",
    "for_map = for_map[for_map[\"iso_alpha2\"] != \"unknown\"] # Remove country category `unknown`, I see no other solution\n",
    "for_map[\"iso_alpha3\"] = [H.country_converter.alpha2_to_alpha3[c] for c in for_map[\"iso_alpha2\"]] # Plotly expects\n",
    "for_map[\"country\"] = [H.country_converter.alpha2_to_country[c] for c in for_map[\"iso_alpha2\"]] # Human readable\n",
    "fig_map = px.choropleth(for_map, color=\"value\", locations=\"iso_alpha3\",\n",
    "                        scope=\"world\", color_continuous_scale=px.colors.sequential.Teal)\n",
    "\n",
    "fig_map.update_layout(\n",
    "    geo=dict( showframe=False, projection_type='equirectangular'),\n",
    "    annotations = [dict(x=0.55, y=0.1, xref='paper', yref='paper', showarrow = False)]\n",
    ");"
   ]
  },
  {
   "cell_type": "markdown",
   "metadata": {},
   "source": [
    "<br>\n",
    "<p align=\"center\"> <img src=\"./readme_res/fig6.png\" alt=\"Drawing\"/> </p>\n",
    "<br>"
   ]
  },
  {
   "cell_type": "markdown",
   "metadata": {},
   "source": [
    "# 3.) Create dashboard app"
   ]
  },
  {
   "cell_type": "markdown",
   "metadata": {
    "heading_collapsed": true
   },
   "source": [
    "## 3.1) Helpers"
   ]
  },
  {
   "cell_type": "code",
   "execution_count": 9,
   "metadata": {
    "hidden": true
   },
   "outputs": [],
   "source": [
    "# These are just to make it all a bit more manageable. \n",
    "# App layout can be a bit unwielding otherwise due to all the brackets and parentheses.\n",
    "\n",
    "def get_overview_card(text, title, color, icon):\n",
    "    card_icon = {\"color\": \"white\", \"textAlign\": \"center\", 'fontSize': 50, \"margin\": \"auto\"}\n",
    "    return dbc.Col(width=3, children=[\n",
    "        dbc.CardGroup([\n",
    "            dbc.Card([\n",
    "                dbc.CardBody([\n",
    "                    html.H4(title, className=\"card-title\"),\n",
    "                    html.H5(text, className=\"card-text\")\n",
    "                ])\n",
    "            ]),\n",
    "            dbc.Card(\n",
    "                html.Div(className=icon, style=card_icon), className=f\"bg-{color}\", style={\"maxWidth\": 100}\n",
    "            ),\n",
    "        ], className=\"mt-4 shadow\")\n",
    "    ])\n",
    "\n",
    "def get_fig(fig, width, title=\"asd\"):\n",
    "    fig.update_yaxes(title='')\n",
    "    return dbc.Col(width=width, children=[\n",
    "        dbc.CardGroup([\n",
    "            dbc.Card(dbc.CardBody([html.H4(title, className=\"card-title\"), dcc.Graph(figure=fig)])),\n",
    "        ], className=\"mt-4 shadow\")\n",
    "    ])\n",
    "\n"
   ]
  },
  {
   "cell_type": "markdown",
   "metadata": {
    "heading_collapsed": true
   },
   "source": [
    "## 3.2) Figure titles and key stats"
   ]
  },
  {
   "cell_type": "code",
   "execution_count": 10,
   "metadata": {
    "hidden": true
   },
   "outputs": [],
   "source": [
    "title1 = \"Launches\"\n",
    "text1 = f\"{format(df['launched'].count(), ',')}\"\n",
    "\n",
    "title2 = \"Success Rate\"\n",
    "text2 = f\"{round( (sum(df['state'] == 'successful') / len(df)*100),1)}%\"\n",
    "\n",
    "title3 = \"Backers\"\n",
    "text3 = f\"{format(sum(df.backers), ',')}\"\n",
    "\n",
    "title4 = \"Pledges\"\n",
    "text4 = f\"{format(round(sum(df.usd_pledged_real)), ',')}$\"\n",
    "\n",
    "\n",
    "# Figure text\n",
    "fig_map_title = \"Launches - country\"\n",
    "fig_ks_count_title = \"Launches - year\"\n",
    "fig_money2_title = \"U.S. Dollars Pledged - Category\"\n",
    "fig_money1_2_title = \"U.S Dollars Pledged - Year\"\n",
    "fig_category2_title = \"Success Rate - Category\"\n",
    "fig_category1_title = \"10 Most popular categories\""
   ]
  },
  {
   "cell_type": "markdown",
   "metadata": {
    "heading_collapsed": true
   },
   "source": [
    "## 3.3 Create dashbaord rows"
   ]
  },
  {
   "cell_type": "code",
   "execution_count": 11,
   "metadata": {
    "hidden": true
   },
   "outputs": [],
   "source": [
    "# Text row\n",
    "text_row = dbc.Row([\n",
    "        get_overview_card(text1, title1, \"info\", \"fas fa-handshake fa-2x\"),\n",
    "        get_overview_card(text2, title2, \"danger\", \"fa fa-check-square\"),\n",
    "        get_overview_card(text3, title3, \"success\", \"fa fa-user fa-2x\"),\n",
    "        get_overview_card(text4, title4, \"warning\", \"fas fa-dollar-sign\")\n",
    "    ])\n",
    "\n",
    "\n",
    "# Figures\n",
    "first_row = dbc.Row([\n",
    "        get_fig(fig_ks_count, 7, title=fig_ks_count_title),\n",
    "        get_fig(fig_money, 5, title=fig_money1_2_title),\n",
    "    ])\n",
    "\n",
    "second_row = dbc.Row([\n",
    "        get_fig(fig_pie_category, 4, title=fig_category1_title),\n",
    "        get_fig(fig_money_category, 4, title=fig_money2_title),\n",
    "        get_fig(fig_success_rate, 4, title=fig_category2_title)\n",
    "    ])\n",
    "\n",
    "third_row = dbc.Row([\n",
    "        get_fig(fig_map, 12, title=fig_map_title)\n",
    "    ])"
   ]
  },
  {
   "cell_type": "markdown",
   "metadata": {},
   "source": [
    "## 3.4 Launch app"
   ]
  },
  {
   "cell_type": "code",
   "execution_count": 12,
   "metadata": {},
   "outputs": [
    {
     "name": "stdout",
     "output_type": "stream",
     "text": [
      "Dash app running on http://127.0.0.1:8050/\n"
     ]
    }
   ],
   "source": [
    "# Combine everything\n",
    "FONT_AWESOME = \"https://use.fontawesome.com/releases/v5.10.2/css/all.css\"\n",
    "app = JupyterDash(__name__, external_stylesheets=[dbc.themes.LUX, FONT_AWESOME])\n",
    "app.layout = html.Div(\n",
    "    dbc.Card([\n",
    "        dbc.CardBody([\n",
    "            html.H1(\"Kickstarter 2010-2017\", className=\"card-title\"),\n",
    "            text_row,\n",
    "            html.Br(),\n",
    "            first_row,\n",
    "            html.Br(),\n",
    "            second_row,\n",
    "            html.Br(),\n",
    "            third_row,\n",
    "        ])\n",
    "    ])\n",
    ")\n",
    "\n",
    "# Launch app locally\n",
    "app.run_server()"
   ]
  },
  {
   "cell_type": "markdown",
   "metadata": {},
   "source": [
    "<br>\n",
    "<p align=\"center\"> <img src=\"./readme_res/demo.png\" alt=\"Drawing\"/> </p>\n",
    "<br>"
   ]
  }
 ],
 "metadata": {
  "kernelspec": {
   "display_name": "Python 3",
   "language": "python",
   "name": "python3"
  },
  "language_info": {
   "codemirror_mode": {
    "name": "ipython",
    "version": 3
   },
   "file_extension": ".py",
   "mimetype": "text/x-python",
   "name": "python",
   "nbconvert_exporter": "python",
   "pygments_lexer": "ipython3",
   "version": "3.8.6rc1"
  }
 },
 "nbformat": 4,
 "nbformat_minor": 4
}
